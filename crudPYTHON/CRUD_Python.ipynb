{
  "nbformat": 4,
  "nbformat_minor": 0,
  "metadata": {
    "colab": {
      "provenance": []
    },
    "kernelspec": {
      "name": "python3",
      "display_name": "Python 3"
    },
    "language_info": {
      "name": "python"
    }
  },
  "cells": [
    {
      "cell_type": "code",
      "source": [
        "from sqlalchemy import create_engine\n",
        "from datetime import datetime\n",
        "from sqlalchemy.sql.expression import null"
      ],
      "metadata": {
        "id": "4GqFWQXVhAaC"
      },
      "execution_count": null,
      "outputs": []
    },
    {
      "cell_type": "code",
      "execution_count": null,
      "metadata": {
        "id": "C5JyP3D1c2io"
      },
      "outputs": [],
      "source": [
        "class Contato:\n",
        "    def __init__(self, rowid: int, nome: str, idade: int, datacadastro: str):\n",
        "      self.rowid = int(rowid)\n",
        "      self.nome = nome\n",
        "      self.idade = int(idade)\n",
        "      self.datacadastro = datacadastro\n",
        "    \n",
        "    def __str__(self):\n",
        "      return f\"{self.rowid} |{self.nome} |{self.idade} |{self.datacadastro}\""
      ]
    },
    {
      "cell_type": "code",
      "source": [
        "#Cria a conexão com o database\n",
        "my_conn = create_engine(\"sqlite:////content/database.db\")"
      ],
      "metadata": {
        "id": "Bi2HoDN2hHxY"
      },
      "execution_count": null,
      "outputs": []
    },
    {
      "cell_type": "code",
      "source": [
        "#Create - INSERT\n",
        "def CRUDcreate(Contato: Contato):\n",
        "  \n",
        "  #deleção da rowid desnessessaria\n",
        "  del(Contato.rowid)\n",
        "  \n",
        "  auxNome = Contato.nome\n",
        "  auxIdade = str(Contato.idade)\n",
        "  auxDatacadastro = Contato.datacadastro\n",
        "\n",
        "  my_conn.execute(\"INSERT INTO contatos VALUES ('\"+auxNome+\"', \"+auxIdade+\", '\"+auxDatacadastro+\"')\")"
      ],
      "metadata": {
        "id": "44j38_9EoQjU"
      },
      "execution_count": null,
      "outputs": []
    },
    {
      "cell_type": "code",
      "source": [
        "# Return - SELECT\n",
        "def CRUDreturn():\n",
        "  r_set=my_conn.execute(\"SELECT rowid, nome, idade, datacadastro FROM contatos\")\n",
        "\n",
        "  contatos = []\n",
        "  for row in r_set:\n",
        "    auxRowid = row[0]\n",
        "    auxNome = row[1]\n",
        "    auxIdade = row[2]\n",
        "    auxDatacadastro = row[3]\n",
        "    contatos.append(Contato(auxRowid, auxNome, auxIdade, auxDatacadastro))\n",
        "    #print(Contato(auxRowid, auxNome, auxIdade, auxDatacadastro))\n",
        "\n",
        "  for contato in contatos:\n",
        "    print(contato)"
      ],
      "metadata": {
        "id": "a-mB3O6DhZsw"
      },
      "execution_count": null,
      "outputs": []
    },
    {
      "cell_type": "code",
      "source": [
        "#Update - UPDATE\n",
        "def CRUDupdate(Contato: Contato, rowid: str):\n",
        "  \n",
        "  #deletar variavel desnessessaria\n",
        "  del(Contato.rowid)\n",
        "\n",
        "  auxNome = Contato.nome\n",
        "  auxIdade = str(Contato.idade)\n",
        "  auxDatacadastro = Contato.datacadastro\n",
        "\n",
        "  my_conn.execute(\"UPDATE contatos SET nome= '\"+auxNome\n",
        "        +\"', idade= \"+auxIdade\n",
        "        +\", datacadastro= '\"+auxDatacadastro\n",
        "        +\"' WHERE rowid= \"+ rowid)"
      ],
      "metadata": {
        "id": "StdFOUqJv7rp"
      },
      "execution_count": null,
      "outputs": []
    },
    {
      "cell_type": "code",
      "source": [
        "#Delete - DELETE\n",
        "def CRUDdelete(rowid: int):\n",
        "  my_conn.execute(\"DELETE FROM contatos WHERE rowid= \"+str(rowid))"
      ],
      "metadata": {
        "id": "1E7ZZeeBnv09"
      },
      "execution_count": null,
      "outputs": []
    },
    {
      "cell_type": "markdown",
      "source": [
        "Main"
      ],
      "metadata": {
        "id": "wucIk8r301kw"
      }
    },
    {
      "cell_type": "code",
      "source": [
        "operacao = input(\"Insira a operação desejada C,R,U ou D: \")\n",
        "\n",
        "\n",
        "nome = 'Siclaninha'\n",
        "idade = 18\n",
        "datacadastro = str(datetime.today().strftime('%Y-%m-%d %H:%M:%S'))\n",
        "\n",
        "#valor rowid usado para criação dos contatos\n",
        "#deletado internamente nas funções\n",
        "rowidTemp = 0\n",
        "\n",
        "if(operacao == 'c'):\n",
        "  CRUDcreate(Contato(rowidTemp, nome, idade, datacadastro))\n",
        "\n",
        "else:\n",
        "  if(operacao == 'r'):\n",
        "     CRUDreturn()\n",
        "\n",
        "  else:\n",
        "    if(operacao == 'u'):\n",
        "      rowid = int(input(\"Insira o rowid a ser atualizado: \"))\n",
        "      CRUDupdate(Contato(rowidTemp, nome, idade, datacadastro), str(rowid))\n",
        "\n",
        "    else:\n",
        "      if(operacao == 'd'):\n",
        "        rowid = int(input(\"Insira o rowid a ser deletado: \"))\n",
        "        CRUDdelete(rowid)\n",
        "\n",
        "      else:\n",
        "        print(\"Por favor insira a operação entre C, R, U ou D\")\n"
      ],
      "metadata": {
        "colab": {
          "base_uri": "https://localhost:8080/"
        },
        "id": "jt7sNtT7022u",
        "outputId": "091a87d7-32f5-44c9-b36f-ee29c20e078a"
      },
      "execution_count": null,
      "outputs": [
        {
          "output_type": "stream",
          "name": "stdout",
          "text": [
            "Insira a operação desejada C,R,U ou D: r\n",
            "1 |Fulano |22 |2022-02-02 22:00:00\n",
            "4 |Fulana de tal |23 |2022-03-03 13:30:00\n",
            "5 |Siclano Delclanino |36 |2022-03-27 11:00:00\n",
            "8 |Joaquina Leopoldina |31 |2022-11-14 19:29:06\n",
            "9 |Siclano |28 |2022-11-15 20:00:51\n",
            "10 |Siclaninha |18 |2022-11-15 20:01:34\n"
          ]
        }
      ]
    }
  ]
}