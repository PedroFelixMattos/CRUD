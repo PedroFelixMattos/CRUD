{
  "nbformat": 4,
  "nbformat_minor": 0,
  "metadata": {
    "colab": {
      "provenance": []
    },
    "kernelspec": {
      "name": "python3",
      "display_name": "Python 3"
    },
    "language_info": {
      "name": "python"
    }
  },
  "cells": [
    {
      "cell_type": "code",
      "source": [
        "from sqlalchemy import create_engine\n",
        "from datetime import datetime\n",
        "from sqlalchemy.sql.expression import null\n",
        "\n",
        "import flask\n",
        "from IPython import get_ipython"
      ],
      "metadata": {
        "id": "4GqFWQXVhAaC"
      },
      "execution_count": null,
      "outputs": []
    },
    {
      "cell_type": "markdown",
      "source": [
        "Conexão REST API"
      ],
      "metadata": {
        "id": "fDw-X4wMTv4i"
      }
    },
    {
      "cell_type": "code",
      "source": [
        "!pip install flask\n",
        "\n",
        "!wget https://bin.equinox.io/c/4VmDzA7iaHb/ngrok-stable-linux-amd64.zip\n",
        "!unzip -o ngrok-stable-linux-amd64.zip"
      ],
      "metadata": {
        "colab": {
          "base_uri": "https://localhost:8080/"
        },
        "id": "8DYrnJK6SeDk",
        "outputId": "64bfa306-6d80-4386-c252-d51750c5605d"
      },
      "execution_count": null,
      "outputs": [
        {
          "output_type": "stream",
          "name": "stdout",
          "text": [
            "Looking in indexes: https://pypi.org/simple, https://us-python.pkg.dev/colab-wheels/public/simple/\n",
            "Requirement already satisfied: flask in /usr/local/lib/python3.7/dist-packages (1.1.4)\n",
            "Requirement already satisfied: click<8.0,>=5.1 in /usr/local/lib/python3.7/dist-packages (from flask) (7.1.2)\n",
            "Requirement already satisfied: Jinja2<3.0,>=2.10.1 in /usr/local/lib/python3.7/dist-packages (from flask) (2.11.3)\n",
            "Requirement already satisfied: itsdangerous<2.0,>=0.24 in /usr/local/lib/python3.7/dist-packages (from flask) (1.1.0)\n",
            "Requirement already satisfied: Werkzeug<2.0,>=0.15 in /usr/local/lib/python3.7/dist-packages (from flask) (1.0.1)\n",
            "Requirement already satisfied: MarkupSafe>=0.23 in /usr/local/lib/python3.7/dist-packages (from Jinja2<3.0,>=2.10.1->flask) (2.0.1)\n",
            "--2022-11-17 02:22:23--  https://bin.equinox.io/c/4VmDzA7iaHb/ngrok-stable-linux-amd64.zip\n",
            "Resolving bin.equinox.io (bin.equinox.io)... 54.237.133.81, 18.205.222.128, 54.161.241.46, ...\n",
            "Connecting to bin.equinox.io (bin.equinox.io)|54.237.133.81|:443... connected.\n",
            "HTTP request sent, awaiting response... 200 OK\n",
            "Length: 13832437 (13M) [application/octet-stream]\n",
            "Saving to: ‘ngrok-stable-linux-amd64.zip.2’\n",
            "\n",
            "ngrok-stable-linux- 100%[===================>]  13.19M  59.7MB/s    in 0.2s    \n",
            "\n",
            "2022-11-17 02:22:24 (59.7 MB/s) - ‘ngrok-stable-linux-amd64.zip.2’ saved [13832437/13832437]\n",
            "\n",
            "Archive:  ngrok-stable-linux-amd64.zip\n",
            "  inflating: ngrok                   \n"
          ]
        }
      ]
    },
    {
      "cell_type": "code",
      "source": [
        "get_ipython().system_raw('python app.py &')\n",
        "get_ipython().system_raw('./ngrok http 5000 &')"
      ],
      "metadata": {
        "id": "4PwBMn-7S0d7"
      },
      "execution_count": null,
      "outputs": []
    },
    {
      "cell_type": "code",
      "source": [
        "! curl -s http://localhost:4040/api/tunnels | python3 -c \\\n",
        "    \"import sys, json; print(json.load(sys.stdin)['tunnels'][0]['public_url'])\""
      ],
      "metadata": {
        "colab": {
          "base_uri": "https://localhost:8080/"
        },
        "id": "gd9kGUUeS_wU",
        "outputId": "dd5b631a-16ab-4b82-8021-318a0f2628d8"
      },
      "execution_count": null,
      "outputs": [
        {
          "output_type": "stream",
          "name": "stdout",
          "text": [
            "https://911e-35-231-235-52.ngrok.io\n"
          ]
        }
      ]
    },
    {
      "cell_type": "code",
      "source": [
        "from flask import Flask\n",
        "app = Flask(__name__)\n",
        "\n",
        "\n",
        "@app.route('/')\n",
        "def index():\n",
        "    return \"Welcome to Golab REST API\"\n",
        "\n",
        "if __name__ == '__main__':\n",
        "    app.run()"
      ],
      "metadata": {
        "colab": {
          "base_uri": "https://localhost:8080/"
        },
        "id": "eVTai9-xUlDJ",
        "outputId": "4936c2ac-75b5-4fa3-cfe2-80ef688ae096"
      },
      "execution_count": null,
      "outputs": [
        {
          "output_type": "stream",
          "name": "stdout",
          "text": [
            " * Serving Flask app \"__main__\" (lazy loading)\n",
            " * Environment: production\n",
            "\u001b[31m   WARNING: This is a development server. Do not use it in a production deployment.\u001b[0m\n",
            "\u001b[2m   Use a production WSGI server instead.\u001b[0m\n",
            " * Debug mode: off\n"
          ]
        },
        {
          "output_type": "stream",
          "name": "stderr",
          "text": [
            "INFO:werkzeug: * Running on http://127.0.0.1:5000/ (Press CTRL+C to quit)\n",
            "INFO:werkzeug:127.0.0.1 - - [17/Nov/2022 02:22:42] \"\u001b[37mGET / HTTP/1.1\u001b[0m\" 200 -\n",
            "INFO:werkzeug:127.0.0.1 - - [17/Nov/2022 02:22:45] \"\u001b[37mGET / HTTP/1.1\u001b[0m\" 200 -\n",
            "INFO:werkzeug:127.0.0.1 - - [17/Nov/2022 02:22:46] \"\u001b[37mGET / HTTP/1.1\u001b[0m\" 200 -\n",
            "INFO:werkzeug:127.0.0.1 - - [17/Nov/2022 02:22:46] \"\u001b[33mGET /favicon.ico HTTP/1.1\u001b[0m\" 404 -\n"
          ]
        }
      ]
    },
    {
      "cell_type": "markdown",
      "source": [
        "Craição do objeto contato e conexões"
      ],
      "metadata": {
        "id": "PfEG4JTXT0pC"
      }
    },
    {
      "cell_type": "code",
      "execution_count": null,
      "metadata": {
        "id": "C5JyP3D1c2io"
      },
      "outputs": [],
      "source": [
        "class Contato:\n",
        "    def __init__(self, rowid: int, nome: str, idade: int, datacadastro: str):\n",
        "      self.rowid = int(rowid)\n",
        "      self.nome = nome\n",
        "      self.idade = int(idade)\n",
        "      self.datacadastro = datacadastro\n",
        "    \n",
        "    def __str__(self):\n",
        "      return f\"{self.rowid} |{self.nome} |{self.idade} |{self.datacadastro}\""
      ]
    },
    {
      "cell_type": "code",
      "source": [
        "#Cria a conexão com o database\n",
        "my_conn = create_engine(\"sqlite:////content/database.db\")"
      ],
      "metadata": {
        "id": "Bi2HoDN2hHxY"
      },
      "execution_count": null,
      "outputs": []
    },
    {
      "cell_type": "code",
      "source": [
        "#Create - INSERT\n",
        "def CRUDcreate(Contato: Contato):\n",
        "  \n",
        "  #deleção da rowid desnessessaria\n",
        "  del(Contato.rowid)\n",
        "  \n",
        "  auxNome = Contato.nome\n",
        "  auxIdade = str(Contato.idade)\n",
        "  auxDatacadastro = Contato.datacadastro\n",
        "\n",
        "  my_conn.execute(\"INSERT INTO contatos VALUES ('\"+auxNome+\"', \"+auxIdade+\", '\"+auxDatacadastro+\"')\")"
      ],
      "metadata": {
        "id": "44j38_9EoQjU"
      },
      "execution_count": null,
      "outputs": []
    },
    {
      "cell_type": "code",
      "source": [
        "# Return - SELECT\n",
        "def CRUDreturn(operacaoExtra = False):\n",
        "  r_set=my_conn.execute(\"SELECT rowid, nome, idade, datacadastro FROM contatos\")\n",
        "\n",
        "  contatos = []\n",
        "\n",
        "  #Armazena os Rowid que existem na tabela\n",
        "  rowidExistente = []\n",
        "  for row in r_set:\n",
        "    auxRowid = row[0]\n",
        "    rowidExistente.append(auxRowid)\n",
        "\n",
        "    auxNome = row[1]\n",
        "    auxIdade = row[2]\n",
        "    auxDatacadastro = row[3]\n",
        "    contatos.append(Contato(auxRowid, auxNome, auxIdade, auxDatacadastro))\n",
        "    #print(Contato(auxRowid, auxNome, auxIdade, auxDatacadastro))\n",
        "\n",
        "  #Variavel operacaoExtra criada\n",
        "  #Se a operação pedida for Return imprime os retornos\n",
        "  #Se a operação pedida for Update utilizamos a variavel auxRowid internamente\n",
        "  if(operacaoExtra == False):\n",
        "    for contato in contatos:\n",
        "      print(contato)\n",
        "  else:\n",
        "    return rowidExistente"
      ],
      "metadata": {
        "id": "a-mB3O6DhZsw"
      },
      "execution_count": null,
      "outputs": []
    },
    {
      "cell_type": "code",
      "source": [
        "#Update - UPDATE\n",
        "def CRUDupdate(Contato: Contato, rowid: str):\n",
        "  \n",
        "  #deletar variavel desnessessaria\n",
        "  del(Contato.rowid)\n",
        "\n",
        "  auxNome = Contato.nome\n",
        "  auxIdade = str(Contato.idade)\n",
        "  auxDatacadastro = Contato.datacadastro\n",
        "\n",
        "  rowidExistente = CRUDreturn(operacaoExtra=True)\n",
        "  temRowid = False\n",
        "  for rowidE in rowidExistente:\n",
        "    if(int(rowid) == int(rowidE)):\n",
        "      temRowid = True\n",
        "      break\n",
        "\n",
        "  if(temRowid == True):\n",
        "    my_conn.execute(\"UPDATE contatos SET nome= '\"+auxNome\n",
        "          +\"', idade= \"+auxIdade\n",
        "          +\", datacadastro= '\"+auxDatacadastro\n",
        "          +\"' WHERE rowid= \"+ rowid)\n",
        "  else:\n",
        "    print(\"Rowid não encontrado\")"
      ],
      "metadata": {
        "id": "StdFOUqJv7rp"
      },
      "execution_count": null,
      "outputs": []
    },
    {
      "cell_type": "code",
      "source": [
        "#Delete - DELETE\n",
        "def CRUDdelete(rowid: int):\n",
        "  rowidExistente = CRUDreturn(operacaoExtra=True)\n",
        "  temRowid = False\n",
        "  for rowidE in rowidExistente:\n",
        "    if(int(rowid) == int(rowidE)):\n",
        "      temRowid = True\n",
        "      break\n",
        "  \n",
        "  if(temRowid == True):\n",
        "    my_conn.execute(\"DELETE FROM contatos WHERE rowid= \"+str(rowid))\n",
        "  else:\n",
        "    print(\"Rowid não encontrado\")"
      ],
      "metadata": {
        "id": "1E7ZZeeBnv09"
      },
      "execution_count": null,
      "outputs": []
    },
    {
      "cell_type": "code",
      "source": [
        "def criarContato():\n",
        "\n",
        "  nome = str(input(\"Nome: \"))\n",
        "  idade = int(input(\"Idade: \"))\n",
        "  datacadastro = str(datetime.today().strftime('%Y-%m-%d %H:%M:%S'))\n",
        "\n",
        "  #valor rowid usado para criação dos contatos\n",
        "  #deletado internamente nas funções\n",
        "  rowidTemp = 0\n",
        "\n",
        "  contato = Contato(rowidTemp, nome, idade, datacadastro)\n",
        "\n",
        "  return contato"
      ],
      "metadata": {
        "id": "IhR3-cV0LcJq"
      },
      "execution_count": null,
      "outputs": []
    },
    {
      "cell_type": "markdown",
      "source": [
        "Main"
      ],
      "metadata": {
        "id": "wucIk8r301kw"
      }
    },
    {
      "cell_type": "code",
      "source": [
        "operacao = input(\"Insira a operação desejada C,R,U ou D: \")\n",
        "\n",
        "if(operacao == 'c'):\n",
        "  CRUDcreate(criarContato())\n",
        "\n",
        "else:\n",
        "  if(operacao == 'r'):\n",
        "     CRUDreturn()\n",
        "\n",
        "  else:\n",
        "    if(operacao == 'u'):\n",
        "      rowid = int(input(\"Insira o rowid a ser atualizado: \"))\n",
        "      CRUDupdate(criarContato(), str(rowid))\n",
        "\n",
        "    else:\n",
        "      if(operacao == 'd'):\n",
        "        rowid = int(input(\"Insira o rowid a ser deletado: \"))\n",
        "        CRUDdelete(rowid)\n",
        "\n",
        "      else:\n",
        "        print(\"Por favor insira a operação entre C, R, U ou D\")\n"
      ],
      "metadata": {
        "colab": {
          "base_uri": "https://localhost:8080/"
        },
        "id": "jt7sNtT7022u",
        "outputId": "2c0397da-b2b2-4d73-e0e5-16c32d2f2afc"
      },
      "execution_count": null,
      "outputs": [
        {
          "output_type": "stream",
          "name": "stdout",
          "text": [
            "Insira a operação desejada C,R,U ou D: r\n",
            "4 |Joaquina Josefina |19 |2022-11-17 01:45:07\n",
            "5 |Siclano Delclanino |36 |2022-03-27 11:00:00\n",
            "9 |Ismael |16 |2022-11-17 01:26:53\n",
            "10 |Frederico |82 |2022-11-17 01:52:27\n"
          ]
        }
      ]
    }
  ]
}